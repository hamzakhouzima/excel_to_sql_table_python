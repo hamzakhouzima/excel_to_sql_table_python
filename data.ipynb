{
 "cells": [
  {
   "cell_type": "code",
   "execution_count": 14,
   "id": "e589a76c",
   "metadata": {},
   "outputs": [],
   "source": [
    "import pandas as pd\n"
   ]
  },
  {
   "cell_type": "code",
   "execution_count": 16,
   "id": "37ec255c",
   "metadata": {},
   "outputs": [
    {
     "name": "stdout",
     "output_type": "stream",
     "text": [
      "<class 'pandas.core.frame.DataFrame'>\n",
      "    Employee ID         Full Name                   Job Title   Department  \\\n",
      "0        E02002            Kai Le           Controls Engineer  Engineering   \n",
      "1        E02003      Robert Patel                     Analyst        Sales   \n",
      "2        E02004        Cameron Lo       Network Administrator           IT   \n",
      "3        E02005   Harper Castillo        IT Systems Architect           IT   \n",
      "4        E02006  Harper Dominguez                    Director  Engineering   \n",
      "..          ...               ...                         ...          ...   \n",
      "995      E02997    Melody Delgado           Network Architect           IT   \n",
      "996      E02998         Eliza Bui                     Analyst      Finance   \n",
      "997      E02999          Layla Wu  Sr. Account Representative        Sales   \n",
      "998      E03000        Thomas Lam           Controls Engineer  Engineering   \n",
      "999      E03001     Willow Taylor      Account Representative        Sales   \n",
      "\n",
      "              Business Unit  Gender Ethnicity  Age  Hire Date  Annual Salary  \\\n",
      "0             Manufacturing    Male     Asian   47 2022-02-05          92368   \n",
      "1                 Corporate    Male     Asian   58 2013-10-23          45703   \n",
      "2    Research & Development    Male     Asian   34 2019-03-24          83576   \n",
      "3                 Corporate  Female    Latino   39 2018-04-07          98062   \n",
      "4                 Corporate  Female    Latino   42 2005-06-18         175391   \n",
      "..                      ...     ...       ...  ...        ...            ...   \n",
      "995      Specialty Products  Female    Latino   48 2012-11-28          71632   \n",
      "996               Corporate  Female     Asian   63 2010-06-13          45337   \n",
      "997  Research & Development  Female     Asian   31 2018-08-27          89573   \n",
      "998           Manufacturing    Male     Asian   52 2022-11-18          75775   \n",
      "999               Corporate  Female     Black   27 2021-02-08          51321   \n",
      "\n",
      "     Bonus %        Country            City Exit Date  \n",
      "0       0.00  United States        Columbus       NaT  \n",
      "1       0.00  United States         Chicago       NaT  \n",
      "2       0.00          China        Shanghai       NaT  \n",
      "3       0.00  United States         Seattle       NaT  \n",
      "4       0.24  United States          Austin       NaT  \n",
      "..       ...            ...             ...       ...  \n",
      "995     0.00         Brazil  Rio de Janeiro       NaT  \n",
      "996     0.00  United States         Seattle       NaT  \n",
      "997     0.00  United States           Miami       NaT  \n",
      "998     0.00  United States         Seattle       NaT  \n",
      "999     0.00  United States         Seattle       NaT  \n",
      "\n",
      "[1000 rows x 14 columns]\n"
     ]
    }
   ],
   "source": [
    "excel_sheet = pd.read_excel('excel_format.xlsx')\n",
    "\n",
    "\n",
    "\n",
    "print(type(excel_sheet))\n",
    "print(excel_sheet)"
   ]
  },
  {
   "cell_type": "code",
   "execution_count": null,
   "id": "fbac0b68",
   "metadata": {},
   "outputs": [],
   "source": []
  }
 ],
 "metadata": {
  "kernelspec": {
   "display_name": "Python 3 (ipykernel)",
   "language": "python",
   "name": "python3"
  },
  "language_info": {
   "codemirror_mode": {
    "name": "ipython",
    "version": 3
   },
   "file_extension": ".py",
   "mimetype": "text/x-python",
   "name": "python",
   "nbconvert_exporter": "python",
   "pygments_lexer": "ipython3",
   "version": "3.10.9"
  }
 },
 "nbformat": 4,
 "nbformat_minor": 5
}
