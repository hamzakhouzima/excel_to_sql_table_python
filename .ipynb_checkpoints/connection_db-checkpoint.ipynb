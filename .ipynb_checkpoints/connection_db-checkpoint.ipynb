{
 "cells": [
  {
   "cell_type": "code",
   "execution_count": 167,
   "id": "07461bf8",
   "metadata": {},
   "outputs": [],
   "source": [
    "import mysql.connector\n",
    "import pandas as pd"
   ]
  },
  {
   "cell_type": "code",
   "execution_count": 168,
   "id": "3f427a84",
   "metadata": {
    "scrolled": true
   },
   "outputs": [
    {
     "name": "stdout",
     "output_type": "stream",
     "text": [
      "Connection established successfully.\n",
      "Cursor created successfully.\n"
     ]
    }
   ],
   "source": [
    "\n",
    "try:\n",
    "    cnx = mysql.connector.connect(\n",
    "        host='127.0.0.1',\n",
    "        user='root',\n",
    "        password='',\n",
    "        database='py_connection'\n",
    "    )\n",
    "    print(\"Connection established successfully.\")\n",
    "\n",
    "    try:\n",
    "        cursor = cnx.cursor()\n",
    "        print(\"Cursor created successfully.\")\n",
    "        \n",
    "    except mysql.connector.Error as err:\n",
    "        print(\"Error creating cursor:\", err)\n",
    "\n",
    "\n",
    "except mysql.connector.Error as err:\n",
    "    print(\"Error during connection:\", err)\n"
   ]
  },
  {
   "cell_type": "code",
   "execution_count": 169,
   "id": "17efc098",
   "metadata": {},
   "outputs": [],
   "source": [
    "# cursor.execute('SELECT * FROM `user`')\n"
   ]
  },
  {
   "cell_type": "code",
   "execution_count": 170,
   "id": "d89f99a6",
   "metadata": {},
   "outputs": [],
   "source": [
    "# rows = cursor.fetchall()\n",
    "# print(type(rows))\n",
    "# for row in rows:\n",
    "#    print(row[1])\n",
    "\n",
    "# cursor.close()\n",
    "# cnx.close()"
   ]
  },
  {
   "cell_type": "code",
   "execution_count": 189,
   "id": "1291e9c4",
   "metadata": {
    "scrolled": false
   },
   "outputs": [
    {
     "name": "stdout",
     "output_type": "stream",
     "text": [
      "Employee_id VARCHAR(255), Full_Name VARCHAR(255), Job_Title VARCHAR(255), Department VARCHAR(255), Business_Unit VARCHAR(255), Gender VARCHAR(255), Ethnicity VARCHAR(255), Age INT, Hire_Date datetime, Annual_Salary INT, Bonus float, Country VARCHAR(255), City VARCHAR(255), Exit_Date datetime\n",
      "CREATE TABLE employee (Employee_id VARCHAR(255), Full_Name VARCHAR(255), Job_Title VARCHAR(255), Department VARCHAR(255), Business_Unit VARCHAR(255), Gender VARCHAR(255), Ethnicity VARCHAR(255), Age INT, Hire_Date datetime, Annual_Salary INT, Bonus float, Country VARCHAR(255), City VARCHAR(255), Exit_Date datetime)\n"
     ]
    }
   ],
   "source": [
    "excel_sheet = pd.read_excel('new_data.xlsx')\n",
    "\n",
    "column_names = excel_sheet.columns.tolist()\n",
    "original_data_types = excel_sheet.dtypes.tolist()\n",
    "# column_data_types = ['varchar' if dtype == 'object' else dtype.name for dtype in original_data_types]\n",
    "column_data_types = ['VARCHAR(255)' if dtype == 'object' else 'INT' if dtype == 'int64' else 'datetime' if dtype=='datetime64[ns]' else 'float' if dtype=='float64' else dtype.name for dtype in original_data_types]\n",
    "\n",
    "table_name = 'employee'\n",
    "column_definitions = ', '.join([f'{col} {data_type}' for col, data_type in zip(column_names, column_data_types)])\n",
    "print(column_definitions)\n",
    "create_table_query = f\"CREATE TABLE {table_name} ({column_definitions})\"\n",
    "print(create_table_query)\n",
    "# cursor.execute(create_table_query)\n",
    "    \n",
    "\n"
   ]
  },
  {
   "cell_type": "code",
   "execution_count": 187,
   "id": "210dcfec",
   "metadata": {},
   "outputs": [],
   "source": [
    "column_data_types = [col if dtype == 'object' else col if dtype == 'int64' else col if dtype=='datetime64[ns]' else col if dtype=='float64' else dtype.name for col, dtype in zip(column_names, original_data_types)]\n",
    "\n",
    "for row in excel_sheet.itertuples(index=False):\n",
    "   insert_query = f\"\"\"\n",
    "    INSERT INTO employee ({', '.join(column_data_types)})\n",
    "    VALUES (%s, %s, %s, %s, %s, %s, %s, %s, %s, %s, %s, %s, %s, %s)\n",
    "    \"\"\"\n",
    "    values = row\n",
    "    cursor.execute(insert_query, values)\n",
    "\n",
    "cnx.commit()"
   ]
  },
  {
   "cell_type": "code",
   "execution_count": 195,
   "id": "024218f9",
   "metadata": {},
   "outputs": [
    {
     "name": "stdout",
     "output_type": "stream",
     "text": [
      "\n",
      "    INSERT INTO employee (Employee_id, Full_Name, Job_Title, Department, Business_Unit, Gender, Ethnicity, Age, Hire_Date, Annual_Salary, Bonus, Country, City, Exit_Date)\n",
      "    VALUES (%s, %s, %s, %s, %s, %s, %s, %s, %s, %s, %s, %s, %s, %s)\n",
      "    \n"
     ]
    }
   ],
   "source": [
    "#this is a test \n",
    "column_data_types = [col if dtype == 'object' else col if dtype == 'int64' else col if dtype=='datetime64[ns]' else col if dtype=='float64' else dtype.name for col, dtype in zip(column_names, original_data_types)]\n",
    "insert_query = f\"\"\"\n",
    "    INSERT INTO employee ({', '.join(column_data_types)})\n",
    "    VALUES (%s, %s, %s, %s, %s, %s, %s, %s, %s, %s, %s, %s, %s, %s)\n",
    "    \"\"\"\n",
    "\n",
    "print(insert_query)\n",
    "#this is a test "
   ]
  },
  {
   "cell_type": "code",
   "execution_count": null,
   "id": "3984a8b4",
   "metadata": {},
   "outputs": [],
   "source": []
  },
  {
   "cell_type": "code",
   "execution_count": null,
   "id": "2306b018",
   "metadata": {},
   "outputs": [],
   "source": []
  },
  {
   "cell_type": "code",
   "execution_count": null,
   "id": "b1c7dc7e",
   "metadata": {},
   "outputs": [],
   "source": []
  },
  {
   "cell_type": "code",
   "execution_count": null,
   "id": "135e06c5",
   "metadata": {},
   "outputs": [],
   "source": []
  },
  {
   "cell_type": "code",
   "execution_count": null,
   "id": "5a6d76aa",
   "metadata": {},
   "outputs": [],
   "source": []
  },
  {
   "cell_type": "code",
   "execution_count": null,
   "id": "84990166",
   "metadata": {},
   "outputs": [],
   "source": []
  },
  {
   "cell_type": "code",
   "execution_count": null,
   "id": "b476be68",
   "metadata": {},
   "outputs": [],
   "source": []
  },
  {
   "cell_type": "code",
   "execution_count": null,
   "id": "af464ba6",
   "metadata": {},
   "outputs": [],
   "source": []
  },
  {
   "cell_type": "code",
   "execution_count": null,
   "id": "ec24f5d5",
   "metadata": {},
   "outputs": [],
   "source": []
  },
  {
   "cell_type": "code",
   "execution_count": null,
   "id": "5c270b75",
   "metadata": {},
   "outputs": [],
   "source": []
  },
  {
   "cell_type": "code",
   "execution_count": null,
   "id": "53f744cb",
   "metadata": {},
   "outputs": [],
   "source": []
  },
  {
   "cell_type": "code",
   "execution_count": null,
   "id": "eef244f0",
   "metadata": {},
   "outputs": [],
   "source": []
  }
 ],
 "metadata": {
  "kernelspec": {
   "display_name": "Python 3 (ipykernel)",
   "language": "python",
   "name": "python3"
  },
  "language_info": {
   "codemirror_mode": {
    "name": "ipython",
    "version": 3
   },
   "file_extension": ".py",
   "mimetype": "text/x-python",
   "name": "python",
   "nbconvert_exporter": "python",
   "pygments_lexer": "ipython3",
   "version": "3.10.9"
  }
 },
 "nbformat": 4,
 "nbformat_minor": 5
}
